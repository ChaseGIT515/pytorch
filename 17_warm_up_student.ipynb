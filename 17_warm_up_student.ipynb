{
  "cells": [
    {
      "cell_type": "markdown",
      "metadata": {
        "id": "view-in-github",
        "colab_type": "text"
      },
      "source": [
        "<a href=\"https://colab.research.google.com/github/ChaseGIT515/pytorch/blob/main/17_warm_up_student.ipynb\" target=\"_parent\"><img src=\"https://colab.research.google.com/assets/colab-badge.svg\" alt=\"Open In Colab\"/></a>"
      ]
    },
    {
      "cell_type": "markdown",
      "metadata": {
        "id": "lf5pcE-FsB9b"
      },
      "source": [
        "# DS 1002: Programming for Data Science\n",
        "\n",
        "## Iterators & Iterables Lab"
      ]
    },
    {
      "cell_type": "code",
      "execution_count": 1,
      "metadata": {
        "id": "aD7nISk7sB9d"
      },
      "outputs": [],
      "source": [
        "# Dictionary for #1\n",
        "capitals = {\"USA\" : \"Washington D.C.\", \"France\" : \"Paris\", \"India\" : \"New Delhi\", \"China\" : \"Beijing\", \"Egypt\" : \"Cairo\", \"Germany\" : \"Berlin\"}"
      ]
    },
    {
      "cell_type": "markdown",
      "metadata": {
        "id": "AorhM1CasB9f"
      },
      "source": [
        "**Exercise #1**  \n",
        "\n",
        "Using the `capitals` dictionary, write a `for` loop that prints off each key value pair.  \n",
        "\n",
        "Example of how you output should be structured:\n",
        "\n",
        "01   \n",
        "Country: USA  \n",
        "Capital: Washington D.C  \n",
        "`----`  \n",
        "02   \n",
        "Country: France  \n",
        "Capital: Paris  \n",
        "`----`  \n",
        "etc...."
      ]
    },
    {
      "cell_type": "code",
      "execution_count": 71,
      "metadata": {
        "id": "3uhUdogVsB9f",
        "colab": {
          "base_uri": "https://localhost:8080/"
        },
        "outputId": "b51530d1-7151-4180-860a-f874570a3013"
      },
      "outputs": [
        {
          "output_type": "stream",
          "name": "stdout",
          "text": [
            "01\n",
            "Country: USA\n",
            "Capital: Washington D.C.\n",
            "----\n",
            "02\n",
            "Country: France\n",
            "Capital: Paris\n",
            "----\n",
            "03\n",
            "Country: India\n",
            "Capital: New Delhi\n",
            "----\n",
            "04\n",
            "Country: China\n",
            "Capital: Beijing\n",
            "----\n",
            "05\n",
            "Country: Egypt\n",
            "Capital: Cairo\n",
            "----\n",
            "06\n",
            "Country: Germany\n",
            "Capital: Berlin\n",
            "----\n"
          ]
        }
      ],
      "source": [
        "for i, k in enumerate(capitals):\n",
        "  print(str(i+1).zfill(2))\n",
        "  print('Country:', k )\n",
        "  print(\"Capital:\", capitals[k])\n",
        "  print(\"-\"*4)"
      ]
    },
    {
      "cell_type": "markdown",
      "metadata": {
        "tags": [],
        "id": "G__VKiNlsB9f"
      },
      "source": [
        "**Exercise #2**  \n",
        "\n",
        "Write a `for` loop runs while a number is less than or equal to 25, checks if the number is even, and prints a string noting the outcome.\n",
        "\n",
        "Example of output:\n",
        "\n",
        "The number 5 is odd\n",
        "\n"
      ]
    },
    {
      "cell_type": "code",
      "source": [
        "for x in range(1,26):\n",
        "  if x % 2 == 0:\n",
        "    print (\"The number\", x, \"is even\")\n",
        "  else:\n",
        "    print (\"The number\", x, \"is odd\")\n"
      ],
      "metadata": {
        "colab": {
          "base_uri": "https://localhost:8080/"
        },
        "id": "mOVb5NkNecun",
        "outputId": "29353955-1d33-4686-b02e-2d92c6cb02f9"
      },
      "execution_count": 26,
      "outputs": [
        {
          "output_type": "stream",
          "name": "stdout",
          "text": [
            "The number 1 is odd\n",
            "The number 2 is even\n",
            "The number 3 is odd\n",
            "The number 4 is even\n",
            "The number 5 is odd\n",
            "The number 6 is even\n",
            "The number 7 is odd\n",
            "The number 8 is even\n",
            "The number 9 is odd\n",
            "The number 10 is even\n",
            "The number 11 is odd\n",
            "The number 12 is even\n",
            "The number 13 is odd\n",
            "The number 14 is even\n",
            "The number 15 is odd\n",
            "The number 16 is even\n",
            "The number 17 is odd\n",
            "The number 18 is even\n",
            "The number 19 is odd\n",
            "The number 20 is even\n",
            "The number 21 is odd\n",
            "The number 22 is even\n",
            "The number 23 is odd\n",
            "The number 24 is even\n",
            "The number 25 is odd\n"
          ]
        }
      ]
    },
    {
      "cell_type": "markdown",
      "metadata": {
        "id": "ug9UW7kIsB9g"
      },
      "source": [
        "**Exercise #3**  \n",
        "Create this output using a nested `for` loop  \n",
        "\n",
        "`-----------------------------------`  \n",
        "I am outer loop iteration 0  \n",
        "`************************************`  \n",
        "I am inner loop iteration 0  \n",
        "`************************************`  \n",
        "I am inner loop iteration 1  \n",
        "`************************************`  \n",
        "I am inner loop iteration 2  \n",
        "`************************************`  \n",
        "I am inner loop iteration 3  \n",
        "`************************************`  \n",
        "I am inner loop iteration 4  \n",
        "`-----------------------------------`  \n",
        "I am outer loop iteration 1    \n",
        "`************************************`  \n",
        "I am inner loop iteration 0   \n",
        "`************************************`   \n",
        "I am inner loop iteration 1   \n",
        "`************************************`  \n",
        "I am inner loop iteration 2      \n",
        "`************************************`  \n",
        "I am inner loop iteration 3    \n",
        "`************************************`  \n",
        "I am inner loop iteration 4    \n",
        "`-----------------------------------`  \n",
        "I am outer loop iteration 2  \n",
        "`************************************`  \n",
        "I am inner loop iteration 0    \n",
        "`************************************`    \n",
        "I am inner loop iteration 1  \n",
        "`************************************`  \n",
        "I am inner loop iteration 2  \n",
        "`************************************`  \n",
        "I am inner loop iteration 3  \n",
        "`************************************`  \n",
        "I am inner loop iteration 4"
      ]
    },
    {
      "cell_type": "code",
      "execution_count": 62,
      "metadata": {
        "id": "9iM6QxR8sB9g",
        "colab": {
          "base_uri": "https://localhost:8080/"
        },
        "outputId": "755c4425-6f0e-48bb-8c54-66efe88d4c63"
      },
      "outputs": [
        {
          "output_type": "stream",
          "name": "stdout",
          "text": [
            "------------------------\n",
            "I am outer loop iteration 0\n",
            "*************************\n",
            "I am inner loop iteration 0\n",
            "*************************\n",
            "I am inner loop iteration 1\n",
            "*************************\n",
            "I am inner loop iteration 2\n",
            "*************************\n",
            "I am inner loop iteration 3\n",
            "*************************\n",
            "I am inner loop iteration 4\n",
            "------------------------\n",
            "I am outer loop iteration 1\n",
            "*************************\n",
            "I am inner loop iteration 0\n",
            "*************************\n",
            "I am inner loop iteration 1\n",
            "*************************\n",
            "I am inner loop iteration 2\n",
            "*************************\n",
            "I am inner loop iteration 3\n",
            "*************************\n",
            "I am inner loop iteration 4\n",
            "------------------------\n",
            "I am outer loop iteration 2\n",
            "*************************\n",
            "I am inner loop iteration 0\n",
            "*************************\n",
            "I am inner loop iteration 1\n",
            "*************************\n",
            "I am inner loop iteration 2\n",
            "*************************\n",
            "I am inner loop iteration 3\n",
            "*************************\n",
            "I am inner loop iteration 4\n",
            "------------------------\n",
            "I am outer loop iteration 3\n",
            "*************************\n",
            "I am inner loop iteration 0\n",
            "*************************\n",
            "I am inner loop iteration 1\n",
            "*************************\n",
            "I am inner loop iteration 2\n",
            "*************************\n",
            "I am inner loop iteration 3\n",
            "*************************\n",
            "I am inner loop iteration 4\n"
          ]
        }
      ],
      "source": [
        "for outer in range (0,4):\n",
        "  print (\"------------------------\")\n",
        "  print(\"I am outer loop iteration\", outer)\n",
        "  for inner in range (0,5):\n",
        "    print(\"*************************\")\n",
        "    print(\"I am inner loop iteration\", inner)"
      ]
    },
    {
      "cell_type": "markdown",
      "metadata": {
        "id": "DRXa8KKbsB9g"
      },
      "source": [
        "**Exercise 4**\n",
        "\n",
        "Using the range of numbers from 0 to 9 as your iterable, write a list comprehension that produces a list of numbers consisting of the squared values from the iterable."
      ]
    },
    {
      "cell_type": "code",
      "execution_count": 37,
      "metadata": {
        "id": "YBwzXuNDsB9h",
        "colab": {
          "base_uri": "https://localhost:8080/"
        },
        "outputId": "4a4d7f19-a226-4017-8545-b369a784a812"
      },
      "outputs": [
        {
          "output_type": "execute_result",
          "data": {
            "text/plain": [
              "[0, 1, 4, 9, 16, 25, 36, 49, 64, 81]"
            ]
          },
          "metadata": {},
          "execution_count": 37
        }
      ],
      "source": [
        "[x**2 for x in range (0,10)]\n"
      ]
    },
    {
      "cell_type": "markdown",
      "metadata": {
        "id": "VDjGHD3fsB9h"
      },
      "source": [
        "**Exercise 5**  \n",
        "\n",
        "Create a 5x5 matrix with value 0 - 4 using a nested list comprehension\n",
        "\n",
        "[[output expression] for iterator variable in iterable]\n",
        "\n",
        "** the output expression is itself a list comprehension **\n",
        "\n",
        "* in the ouput expression recreate your columns\n",
        "* in the outer list comprehension create your rows"
      ]
    },
    {
      "cell_type": "code",
      "execution_count": 55,
      "metadata": {
        "id": "KGYeGiCKsB9h",
        "colab": {
          "base_uri": "https://localhost:8080/"
        },
        "outputId": "5d3436a3-b1e1-47d9-ef4f-b8c9962f27c0"
      },
      "outputs": [
        {
          "output_type": "execute_result",
          "data": {
            "text/plain": [
              "[[0, 1, 2, 3, 4],\n",
              " [0, 1, 2, 3, 4],\n",
              " [0, 1, 2, 3, 4],\n",
              " [0, 1, 2, 3, 4],\n",
              " [0, 1, 2, 3, 4]]"
            ]
          },
          "metadata": {},
          "execution_count": 55
        }
      ],
      "source": [
        "[[x for x in range(0,5)] for x in range(0,5)]"
      ]
    }
  ],
  "metadata": {
    "kernelspec": {
      "display_name": "Python 3 (ipykernel)",
      "language": "python",
      "name": "python3"
    },
    "language_info": {
      "codemirror_mode": {
        "name": "ipython",
        "version": 3
      },
      "file_extension": ".py",
      "mimetype": "text/x-python",
      "name": "python",
      "nbconvert_exporter": "python",
      "pygments_lexer": "ipython3",
      "version": "3.9.16"
    },
    "vscode": {
      "interpreter": {
        "hash": "256476f871f41dd9f410a4535ba940f788da543573a25285757e797fedf9c871"
      }
    },
    "colab": {
      "provenance": [],
      "include_colab_link": true
    }
  },
  "nbformat": 4,
  "nbformat_minor": 0
}